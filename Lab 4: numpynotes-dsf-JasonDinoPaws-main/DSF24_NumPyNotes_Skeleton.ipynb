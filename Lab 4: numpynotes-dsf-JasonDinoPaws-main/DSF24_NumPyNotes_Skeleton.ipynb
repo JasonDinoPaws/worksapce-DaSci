{
 "cells": [
  {
   "cell_type": "markdown",
   "metadata": {},
   "source": [
    "# NumPy Basics\n",
    "NumPy (short for Numerical Python) provides an efficient interface to store and operate on dense data buffers. In some ways, NumPy arrays are like Python's built-in `list` type, but NumPy arrays provide much more efficient storage and data operations as the arrays grow larger in size. \n",
    "\n",
    "### Resources\n",
    "- [Python Data Science Handbook](https://jakevdp.github.io/PythonDataScienceHandbook/02.00-introduction-to-numpy.html)\n",
    "- [NumPy Documentation](https://numpy.org/doc/stable/reference/index.html)\n",
    "- [NumPy basics notes](https://gist.github.com/ShibaniOtis/666ebd044d591793f1328f90d6359e79)\n",
    "- [Data types review and NumPy basics](https://github.com/richardfoltyn/python-statistics/blob/main/latex/unit02.pdf)"
   ]
  },
  {
   "cell_type": "markdown",
   "metadata": {},
   "source": [
    "### Importing NumPy\n",
    "Since NumPy is not part of the standard Python library, we have to import it. If it is not already installed, use pip to install it: `pip install numpy`. In the data science world, we typically import `numpy` as `np`."
   ]
  },
  {
   "cell_type": "code",
   "execution_count": 4,
   "metadata": {},
   "outputs": [],
   "source": [
    "import numpy as np"
   ]
  },
  {
   "cell_type": "markdown",
   "metadata": {},
   "source": [
    "### Creating a NumPy array\n",
    "NumPy arrays are very similar to built-in lists and we can create them in a very similar way."
   ]
  },
  {
   "cell_type": "code",
   "execution_count": 5,
   "metadata": {},
   "outputs": [
    {
     "name": "stdout",
     "output_type": "stream",
     "text": [
      "[1, 2, 3, 4]\n",
      "[1 2 3 4]\n"
     ]
    }
   ],
   "source": [
    "list = [1,2,3,4]\n",
    "np_array = np.array(list)\n",
    "\n",
    "\n",
    "print(list)\n",
    "print(np_array)"
   ]
  },
  {
   "cell_type": "markdown",
   "metadata": {},
   "source": [
    "But if we were to look at the type of both variables,"
   ]
  },
  {
   "cell_type": "code",
   "execution_count": 6,
   "metadata": {},
   "outputs": [
    {
     "name": "stdout",
     "output_type": "stream",
     "text": [
      "<class 'list'>\n",
      "<class 'numpy.ndarray'>\n"
     ]
    }
   ],
   "source": [
    "print(type(list))\n",
    "print(type(np_array))"
   ]
  },
  {
   "cell_type": "markdown",
   "metadata": {},
   "source": [
    "This is pretty clunky, so we typically combine these lines."
   ]
  },
  {
   "cell_type": "code",
   "execution_count": 18,
   "metadata": {},
   "outputs": [
    {
     "name": "stdout",
     "output_type": "stream",
     "text": [
      "[1 2 3 4]\n"
     ]
    }
   ],
   "source": [
    "np_array = np.array([1,2,3,4])\n",
    "print(np_array)"
   ]
  },
  {
   "cell_type": "markdown",
   "metadata": {},
   "source": [
    "This is exactly the same for multidimensional arrays."
   ]
  },
  {
   "cell_type": "code",
   "execution_count": 21,
   "metadata": {},
   "outputs": [
    {
     "name": "stdout",
     "output_type": "stream",
     "text": [
      "[[11 12 13]\n",
      " [21 22 23]\n",
      " [31 32 33]]\n"
     ]
    }
   ],
   "source": [
    "mat = np.array([[11,12,13],[21,22,23],[31,32,33]])\n",
    "print(mat)"
   ]
  },
  {
   "cell_type": "markdown",
   "metadata": {},
   "source": [
    "There are many more ways to create specific arrays with NumPy (arrays of all 0s, arrays with random values, arrays of null values, etc.) [Array creation documentation here](https://numpy.org/doc/stable/reference/routines.array-creation.html). Those routines can be really powerful tools and we will get there, but let's stick with our simple arrays for now."
   ]
  },
  {
   "cell_type": "markdown",
   "metadata": {},
   "source": [
    "### Why NumPy arrays?\n",
    "\n",
    "If NumPy arrays work the same as lists for the most part, then why are we even bothering with them at all?\n",
    "\n",
    "Well, understanding how data is stored and manipulated is paramount to doing so efficiently. Since data scientists are often working with huge datasets, they are very intentional about the ways they choose to manipulate data. The differences between how Python stores data by default, in contrast to packages like NumPy or Pandas, are important nuances.\n",
    "\n",
    "Python is a popular programming language in part because it's easy to use. One major difference between Python and other languages like C or Java is its *dynamic typing*. \n",
    "\n",
    "When you create a variable in Python, you can assign it a value of any data type(int, String, etc.) without having to declare the variable as a specific type. Later in your program, you can also reassign the variable to a different data type.\n",
    "\n",
    "While this may be a valid Python program:\n",
    "```python\n",
    "x = 4\n",
    "x = \"four\"\n",
    "```\n",
    "\n",
    "This same logic would cause an error in Java:\n",
    "```java\n",
    "int x = 4;\n",
    "x = \"four\"; //throws Type mismatch\n",
    "```\n",
    "\n",
    "This flexibility makes Python easy to use, but also means that the Python interpreter is doing extra work behind the scenes to make this possible. Under the hood, the Python interpreter and the Python programs you create are written and compiled in C. This means everything you create in Python is really a C structure. **Variables in Python take up additional space compared to variables in both Java or C because they must store the data type, value itself, and other information.** [source](https://jakevdp.github.io/PythonDataScienceHandbook/02.01-understanding-data-types.html)"
   ]
  },
  {
   "cell_type": "markdown",
   "metadata": {},
   "source": [
    "### How are NumPy arrays different?\n",
    "Just as Python variables have dynamic types, elements of lists in Python have dynamic types. \n",
    "\n",
    "Meaning a Python list can contain multiple types like this:\n",
    "```python\n",
    "list = [True, \"2\", 3.0, 4]\n",
    "[type(item) for item in L3]\n",
    "# prints [bool, str, float, int]\n",
    "```\n",
    "\n",
    "In order to do this, the underlying C compiler must account for multiple data types and stores additional information about each element. \n",
    "\n",
    "The fixed-type NumPy arrays lack the same flexibility, but are able to store information much more efficiently. **NumPy arrays are much more similar to Java and C arrays in their efficient implementation.**\n",
    "\n",
    "For large projects with lots of data, these differences make a huge impact."
   ]
  },
  {
   "cell_type": "markdown",
   "metadata": {},
   "source": [
    "### Matrix vocabulary\n",
    "Since NumPy is used by a lot of mathematicians and data scientists, it has a lot of built-in matrix functionality. This means the way we are going to talk about our arrays is going to be the same vocabulary we use to talk about matrices which is probably new to you!\n",
    "\n",
    "- *row* - group data horizontally\n",
    "- *column* - group data vertically\n",
    "- *dimensions or shape of a matrix* - the number of rows by the number of columns\n",
    "- *size of a matrix*  - the number of elements\n",
    "- *scalar* - not a vector or matrix value, a number like 4 or 72\n",
    "- *vector* - matrix with one column (or one row)\n"
   ]
  },
  {
   "cell_type": "markdown",
   "metadata": {},
   "source": [
    "### About NumPy arrays\n",
    "There are a few different ways we can get information about the shape of our arrays. Since we are no longer working with lists, `len()` is no longer going to work."
   ]
  },
  {
   "cell_type": "code",
   "execution_count": 9,
   "metadata": {},
   "outputs": [
    {
     "name": "stdout",
     "output_type": "stream",
     "text": [
      "\n",
      "Returns a tuple with the size of each dimension\n",
      "(3, 3)\n",
      "\n",
      "Show the array size\n",
      "9\n"
     ]
    }
   ],
   "source": [
    "print(\"\\nReturns a tuple with the size of each dimension\")\n",
    "print(mat.shape)\n",
    "\n",
    "print(\"\\nShow the array size\")\n",
    "print(mat.size)\n"
   ]
  },
  {
   "cell_type": "markdown",
   "metadata": {},
   "source": [
    "### Accessing elements\n",
    "We can access elements in  NumPy arrays exactly the same way as lists. "
   ]
  },
  {
   "cell_type": "code",
   "execution_count": 22,
   "metadata": {},
   "outputs": [
    {
     "name": "stdout",
     "output_type": "stream",
     "text": [
      "Get the third element of np_array\n",
      "[31 32 33]\n",
      "\n",
      "Get the element in the second row and the third column\n",
      "23\n",
      "23\n"
     ]
    }
   ],
   "source": [
    "print(\"Get the third element of np_array\")\n",
    "print(mat[2])\n",
    "\n",
    "\n",
    "print(\"\\nGet the element in the second row and the third column\")\n",
    "print(mat[1][2]) \n",
    "#or \n",
    "print(mat[1,2])\n"
   ]
  },
  {
   "cell_type": "markdown",
   "metadata": {},
   "source": [
    "### Slicing\n",
    "We haven't done too much with slicing but it can be a really powerful tool.\n",
    "\n",
    "Some basic rules are\n",
    "- We can create a slice with the format `start:stop:step`\n",
    "- You can leave any those blank and it wil default to the size of the array\n",
    "- The `stop` value is not inclusive!\n",
    "- Any of the three values could be negative\n",
    "    - If `start` or `stop` are negative, we start counting from the end of the array\n",
    "    - If `step ` is negative, the order of the elements is reversed"
   ]
  },
  {
   "cell_type": "code",
   "execution_count": 33,
   "metadata": {},
   "outputs": [
    {
     "name": "stdout",
     "output_type": "stream",
     "text": [
      "Get the element on the first row and first and second columns\n",
      "[11 13]\n"
     ]
    }
   ],
   "source": [
    "print(\"Get the element on the first row and first and second columns\")\n",
    "print(mat[0][0:3:2])"
   ]
  },
  {
   "cell_type": "markdown",
   "metadata": {},
   "source": [
    "### Matrix operations\n",
    "Using NumPy arrays we can easily do simple matrix operations.\n",
    "\n",
    "\n",
    "**Matrix addition:** Add two arrays of the same dimensions together elementwise."
   ]
  },
  {
   "cell_type": "code",
   "execution_count": 50,
   "metadata": {},
   "outputs": [
    {
     "name": "stdout",
     "output_type": "stream",
     "text": [
      "[[ 6 11]\n",
      " [ 8  6]]\n",
      "[[ 5 30]\n",
      " [15  8]]\n",
      "[[0.2        1.2       ]\n",
      " [1.66666667 0.5       ]]\n",
      "[[   1 7776]\n",
      " [ 125   16]]\n",
      "[[ 5 30]\n",
      " [25 10]]\n"
     ]
    }
   ],
   "source": [
    "x = np.array([[1,6],[5,2]])\n",
    "y = np.array([[5,5],[3,4]])\n",
    "\n",
    "print(x+y)\n",
    "print(x*y)\n",
    "print(x/y)\n",
    "print(x**y)\n",
    "print(x*5)"
   ]
  },
  {
   "cell_type": "markdown",
   "metadata": {},
   "source": [
    "**Scalar multiplication:** Multiply every element in the matrix by a scalar value."
   ]
  },
  {
   "cell_type": "code",
   "execution_count": 51,
   "metadata": {},
   "outputs": [
    {
     "name": "stdout",
     "output_type": "stream",
     "text": [
      "[[4 2]\n",
      " [2 4]]\n"
     ]
    }
   ],
   "source": [
    "z = np.array([[2, 1], [1, 2]]) \n",
    "\n",
    "print(2*z)"
   ]
  },
  {
   "cell_type": "markdown",
   "metadata": {},
   "source": [
    "**Matrix multiplication:** Multiply two arrays of the same dimensions together elementwise."
   ]
  },
  {
   "cell_type": "code",
   "execution_count": 14,
   "metadata": {},
   "outputs": [
    {
     "name": "stdout",
     "output_type": "stream",
     "text": [
      "[[2 0]\n",
      " [0 2]]\n"
     ]
    }
   ],
   "source": [
    "x = np.array([[1, 0], [0, 1]])\n",
    "y = np.array([[2, 1], [1, 2]]) \n",
    "\n",
    "print(x*y)"
   ]
  },
  {
   "cell_type": "markdown",
   "metadata": {},
   "source": [
    "### Creating arrays\n",
    "There are a lot of different ways to easily create arrays that have some pattern to their values, whether they are all the same or only exist on the diagonal, etc.\n",
    "\n",
    "Let's take a look at a few of them now."
   ]
  },
  {
   "cell_type": "code",
   "execution_count": 66,
   "metadata": {},
   "outputs": [
    {
     "name": "stdout",
     "output_type": "stream",
     "text": [
      "Create a 1x4 array with the values 0-3\n",
      "[       0        1        2 ... 71534762 71534763 71534764]\n",
      "\n",
      "Create a 2x2 array with zero for all values\n",
      "[[0. 0.]\n",
      " [0. 0.]]\n",
      "\n",
      "Create a 3x3 array with one for all values\n",
      "[[1. 1. 1. 1. 1. 1. 1. 1. 1. 1.]\n",
      " [1. 1. 1. 1. 1. 1. 1. 1. 1. 1.]\n",
      " [1. 1. 1. 1. 1. 1. 1. 1. 1. 1.]\n",
      " [1. 1. 1. 1. 1. 1. 1. 1. 1. 1.]\n",
      " [1. 1. 1. 1. 1. 1. 1. 1. 1. 1.]\n",
      " [1. 1. 1. 1. 1. 1. 1. 1. 1. 1.]\n",
      " [1. 1. 1. 1. 1. 1. 1. 1. 1. 1.]\n",
      " [1. 1. 1. 1. 1. 1. 1. 1. 1. 1.]\n",
      " [1. 1. 1. 1. 1. 1. 1. 1. 1. 1.]\n",
      " [1. 1. 1. 1. 1. 1. 1. 1. 1. 1.]]\n",
      "\n",
      "Create a 5x2 array of 3s\n",
      "[['FISH' 'FISH']\n",
      " ['FISH' 'FISH']\n",
      " ['FISH' 'FISH']\n",
      " ['FISH' 'FISH']\n",
      " ['FISH' 'FISH']]\n",
      "\n",
      "Create the identity matrix of size 4\n",
      "[[1. 0. 0. 0. 0.]\n",
      " [0. 1. 0. 0. 0.]\n",
      " [0. 0. 1. 0. 0.]\n",
      " [0. 0. 0. 1. 0.]\n",
      " [0. 0. 0. 0. 1.]]\n"
     ]
    }
   ],
   "source": [
    "print(\"Create a 1x4 array with the values 0-3\")\n",
    "rr = np.arange(71534765)\n",
    "print(rr)\n",
    "\n",
    "print(\"\\nCreate a 2x2 array with zero for all values\")\n",
    "zmat = np.zeros((2,2))\n",
    "print(zmat)\n",
    "\n",
    "\n",
    "print(\"\\nCreate a 3x3 array with one for all values\")\n",
    "omat = np.ones((10,10))\n",
    "print(omat)\n",
    "\n",
    "\n",
    "print(\"\\nCreate a 5x2 array of 3s\")\n",
    "tmat = np.full((5,2),np.array([\"FISH\"]))\n",
    "print(tmat)\n",
    "\n",
    "\n",
    "print(\"\\nCreate the identity matrix of size 4\")\n",
    "star = np.identity(5)\n",
    "print(star)\n"
   ]
  },
  {
   "cell_type": "markdown",
   "metadata": {},
   "source": [
    "### Reshaping arrays\n",
    "The `reshape()` function of an array can be used to reshape it into another \"comfortable\" shape."
   ]
  },
  {
   "cell_type": "code",
   "execution_count": 75,
   "metadata": {},
   "outputs": [
    {
     "name": "stdout",
     "output_type": "stream",
     "text": [
      "Reshape a vector of 0-3 to a 2x2 matrix\n",
      "[0 1 2 3 4]\n",
      "[0 1 2 3 4]\n",
      "\n",
      "Reshape it back into a vector\n",
      "[0 1 2 3 4]\n"
     ]
    }
   ],
   "source": [
    "print(\"Reshape a vector of 0-3 to a 2x2 matrix\")\n",
    "mat = np.arange(5)\n",
    "print(mat)\n",
    "\n",
    "mat = mat.reshape(5)\n",
    "print(mat)\n",
    "\n",
    "\n",
    "print(\"\\nReshape it back into a vector\")\n",
    "vec = mat.reshape(5)\n",
    "print(vec)"
   ]
  },
  {
   "cell_type": "markdown",
   "metadata": {},
   "source": [
    "The reshaped matrix must have the same number of elements as the original!"
   ]
  },
  {
   "cell_type": "code",
   "execution_count": 17,
   "metadata": {},
   "outputs": [
    {
     "ename": "ValueError",
     "evalue": "cannot reshape array of size 6 into shape (2,2)",
     "output_type": "error",
     "traceback": [
      "\u001b[0;31m---------------------------------------------------------------------------\u001b[0m",
      "\u001b[0;31mValueError\u001b[0m                                Traceback (most recent call last)",
      "Cell \u001b[0;32mIn[17], line 1\u001b[0m\n\u001b[0;32m----> 1\u001b[0m mat \u001b[38;5;241m=\u001b[39m \u001b[43mnp\u001b[49m\u001b[38;5;241;43m.\u001b[39;49m\u001b[43marange\u001b[49m\u001b[43m(\u001b[49m\u001b[38;5;241;43m6\u001b[39;49m\u001b[43m)\u001b[49m\u001b[38;5;241;43m.\u001b[39;49m\u001b[43mreshape\u001b[49m\u001b[43m(\u001b[49m\u001b[38;5;241;43m2\u001b[39;49m\u001b[43m,\u001b[49m\u001b[38;5;241;43m2\u001b[39;49m\u001b[43m)\u001b[49m\n\u001b[1;32m      2\u001b[0m \u001b[38;5;28mprint\u001b[39m(mat)\n",
      "\u001b[0;31mValueError\u001b[0m: cannot reshape array of size 6 into shape (2,2)"
     ]
    }
   ],
   "source": [
    "mat = np.arange(6).reshape(2,2)\n",
    "print(mat)"
   ]
  },
  {
   "cell_type": "markdown",
   "metadata": {},
   "source": [
    "# Matplitlib"
   ]
  },
  {
   "cell_type": "code",
   "execution_count": 1,
   "metadata": {},
   "outputs": [
    {
     "name": "stdout",
     "output_type": "stream",
     "text": [
      "Inport matplotlib\n",
      "Xreeate an array of an image\n"
     ]
    },
    {
     "ename": "FileNotFoundError",
     "evalue": "[Errno 2] No such file or directory: 'duck.jpg'",
     "output_type": "error",
     "traceback": [
      "\u001b[0;31m---------------------------------------------------------------------------\u001b[0m",
      "\u001b[0;31mFileNotFoundError\u001b[0m                         Traceback (most recent call last)",
      "Cell \u001b[0;32mIn[1], line 6\u001b[0m\n\u001b[1;32m      2\u001b[0m \u001b[38;5;28;01mimport\u001b[39;00m \u001b[38;5;21;01mmatplotlib\u001b[39;00m\u001b[38;5;21;01m.\u001b[39;00m\u001b[38;5;21;01mpylab\u001b[39;00m \u001b[38;5;28;01mas\u001b[39;00m \u001b[38;5;21;01mplt\u001b[39;00m\n\u001b[1;32m      5\u001b[0m \u001b[38;5;28mprint\u001b[39m(\u001b[38;5;124m\"\u001b[39m\u001b[38;5;124mXreeate an array of an image\u001b[39m\u001b[38;5;124m\"\u001b[39m)\n\u001b[0;32m----> 6\u001b[0m frame \u001b[38;5;241m=\u001b[39m \u001b[43mplt\u001b[49m\u001b[38;5;241;43m.\u001b[39;49m\u001b[43mimread\u001b[49m\u001b[43m(\u001b[49m\u001b[38;5;124;43m\"\u001b[39;49m\u001b[38;5;124;43mduck.jpg\u001b[39;49m\u001b[38;5;124;43m\"\u001b[39;49m\u001b[43m)\u001b[49m\n\u001b[1;32m      8\u001b[0m \u001b[38;5;28mprint\u001b[39m(\u001b[38;5;124m\"\u001b[39m\u001b[38;5;124mDisplay the image ot the terminal\u001b[39m\u001b[38;5;124m\"\u001b[39m)\n\u001b[1;32m      9\u001b[0m implot \u001b[38;5;241m=\u001b[39m plt\u001b[38;5;241m.\u001b[39mimshow(frame)\n",
      "File \u001b[0;32m~/.local/lib/python3.10/site-packages/matplotlib/pyplot.py:2389\u001b[0m, in \u001b[0;36mimread\u001b[0;34m(fname, format)\u001b[0m\n\u001b[1;32m   2385\u001b[0m \u001b[38;5;129m@_copy_docstring_and_deprecators\u001b[39m(matplotlib\u001b[38;5;241m.\u001b[39mimage\u001b[38;5;241m.\u001b[39mimread)\n\u001b[1;32m   2386\u001b[0m \u001b[38;5;28;01mdef\u001b[39;00m \u001b[38;5;21mimread\u001b[39m(\n\u001b[1;32m   2387\u001b[0m         fname: \u001b[38;5;28mstr\u001b[39m \u001b[38;5;241m|\u001b[39m pathlib\u001b[38;5;241m.\u001b[39mPath \u001b[38;5;241m|\u001b[39m BinaryIO, \u001b[38;5;28mformat\u001b[39m: \u001b[38;5;28mstr\u001b[39m \u001b[38;5;241m|\u001b[39m \u001b[38;5;28;01mNone\u001b[39;00m \u001b[38;5;241m=\u001b[39m \u001b[38;5;28;01mNone\u001b[39;00m\n\u001b[1;32m   2388\u001b[0m ) \u001b[38;5;241m-\u001b[39m\u001b[38;5;241m>\u001b[39m np\u001b[38;5;241m.\u001b[39mndarray:\n\u001b[0;32m-> 2389\u001b[0m     \u001b[38;5;28;01mreturn\u001b[39;00m \u001b[43mmatplotlib\u001b[49m\u001b[38;5;241;43m.\u001b[39;49m\u001b[43mimage\u001b[49m\u001b[38;5;241;43m.\u001b[39;49m\u001b[43mimread\u001b[49m\u001b[43m(\u001b[49m\u001b[43mfname\u001b[49m\u001b[43m,\u001b[49m\u001b[43m \u001b[49m\u001b[38;5;28;43mformat\u001b[39;49m\u001b[43m)\u001b[49m\n",
      "File \u001b[0;32m~/.local/lib/python3.10/site-packages/matplotlib/image.py:1525\u001b[0m, in \u001b[0;36mimread\u001b[0;34m(fname, format)\u001b[0m\n\u001b[1;32m   1518\u001b[0m \u001b[38;5;28;01mif\u001b[39;00m \u001b[38;5;28misinstance\u001b[39m(fname, \u001b[38;5;28mstr\u001b[39m) \u001b[38;5;129;01mand\u001b[39;00m \u001b[38;5;28mlen\u001b[39m(parse\u001b[38;5;241m.\u001b[39murlparse(fname)\u001b[38;5;241m.\u001b[39mscheme) \u001b[38;5;241m>\u001b[39m \u001b[38;5;241m1\u001b[39m:\n\u001b[1;32m   1519\u001b[0m     \u001b[38;5;66;03m# Pillow doesn't handle URLs directly.\u001b[39;00m\n\u001b[1;32m   1520\u001b[0m     \u001b[38;5;28;01mraise\u001b[39;00m \u001b[38;5;167;01mValueError\u001b[39;00m(\n\u001b[1;32m   1521\u001b[0m         \u001b[38;5;124m\"\u001b[39m\u001b[38;5;124mPlease open the URL for reading and pass the \u001b[39m\u001b[38;5;124m\"\u001b[39m\n\u001b[1;32m   1522\u001b[0m         \u001b[38;5;124m\"\u001b[39m\u001b[38;5;124mresult to Pillow, e.g. with \u001b[39m\u001b[38;5;124m\"\u001b[39m\n\u001b[1;32m   1523\u001b[0m         \u001b[38;5;124m\"\u001b[39m\u001b[38;5;124m``np.array(PIL.Image.open(urllib.request.urlopen(url)))``.\u001b[39m\u001b[38;5;124m\"\u001b[39m\n\u001b[1;32m   1524\u001b[0m         )\n\u001b[0;32m-> 1525\u001b[0m \u001b[38;5;28;01mwith\u001b[39;00m \u001b[43mimg_open\u001b[49m\u001b[43m(\u001b[49m\u001b[43mfname\u001b[49m\u001b[43m)\u001b[49m \u001b[38;5;28;01mas\u001b[39;00m image:\n\u001b[1;32m   1526\u001b[0m     \u001b[38;5;28;01mreturn\u001b[39;00m (_pil_png_to_float_array(image)\n\u001b[1;32m   1527\u001b[0m             \u001b[38;5;28;01mif\u001b[39;00m \u001b[38;5;28misinstance\u001b[39m(image, PIL\u001b[38;5;241m.\u001b[39mPngImagePlugin\u001b[38;5;241m.\u001b[39mPngImageFile) \u001b[38;5;28;01melse\u001b[39;00m\n\u001b[1;32m   1528\u001b[0m             pil_to_array(image))\n",
      "File \u001b[0;32m~/.local/lib/python3.10/site-packages/PIL/Image.py:3243\u001b[0m, in \u001b[0;36mopen\u001b[0;34m(fp, mode, formats)\u001b[0m\n\u001b[1;32m   3240\u001b[0m     filename \u001b[38;5;241m=\u001b[39m fp\n\u001b[1;32m   3242\u001b[0m \u001b[38;5;28;01mif\u001b[39;00m filename:\n\u001b[0;32m-> 3243\u001b[0m     fp \u001b[38;5;241m=\u001b[39m \u001b[43mbuiltins\u001b[49m\u001b[38;5;241;43m.\u001b[39;49m\u001b[43mopen\u001b[49m\u001b[43m(\u001b[49m\u001b[43mfilename\u001b[49m\u001b[43m,\u001b[49m\u001b[43m \u001b[49m\u001b[38;5;124;43m\"\u001b[39;49m\u001b[38;5;124;43mrb\u001b[39;49m\u001b[38;5;124;43m\"\u001b[39;49m\u001b[43m)\u001b[49m\n\u001b[1;32m   3244\u001b[0m     exclusive_fp \u001b[38;5;241m=\u001b[39m \u001b[38;5;28;01mTrue\u001b[39;00m\n\u001b[1;32m   3246\u001b[0m \u001b[38;5;28;01mtry\u001b[39;00m:\n",
      "\u001b[0;31mFileNotFoundError\u001b[0m: [Errno 2] No such file or directory: 'duck.jpg'"
     ]
    }
   ],
   "source": [
    "print(\"Inport matplotlib\")\n",
    "import matplotlib.pylab as plt\n",
    "\n",
    "\n",
    "print(\"Xreeate an array of an image\")\n",
    "frame = plt.imread(\"duck.jpg\")\n",
    "\n",
    "print(\"Display the image ot the terminal\")\n",
    "implot = plt.imshow(frame)\n",
    "print(implot)"
   ]
  }
 ],
 "metadata": {
  "kernelspec": {
   "display_name": "base",
   "language": "python",
   "name": "python3"
  },
  "language_info": {
   "codemirror_mode": {
    "name": "ipython",
    "version": 3
   },
   "file_extension": ".py",
   "mimetype": "text/x-python",
   "name": "python",
   "nbconvert_exporter": "python",
   "pygments_lexer": "ipython3",
   "version": "3.10.12"
  }
 },
 "nbformat": 4,
 "nbformat_minor": 2
}
